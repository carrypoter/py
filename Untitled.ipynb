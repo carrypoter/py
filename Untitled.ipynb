{
 "cells": [
  {
   "cell_type": "code",
   "execution_count": 1,
   "id": "dbc0cc53-a055-44c2-8b19-3a0f2e4b0ac3",
   "metadata": {},
   "outputs": [],
   "source": [
    "#si un numero es divisible por 3 que imprima fizz\n",
    "#si un numero es divisible por 5 que imprima buzz\n",
    "#si un numero es divisible por 3 y 5 que imprima fizzbuzz\n",
    "#con un largo de numero que ingrese el usuario \n",
    "#validar que no se muestre el 0 y que el numero no sea negativo"
   ]
  },
  {
   "cell_type": "code",
   "execution_count": 42,
   "id": "05438831-fd84-4177-bf24-22b9a3a5665e",
   "metadata": {
    "scrolled": true
   },
   "outputs": [
    {
     "name": "stdin",
     "output_type": "stream",
     "text": [
      "ingrese su numero:  3\n"
     ]
    }
   ],
   "source": [
    "x=int(input(\"ingrese su numero: \"))\n"
   ]
  },
  {
   "cell_type": "code",
   "execution_count": 46,
   "id": "20f4d73e-d880-4b41-9f7f-f738f29d9913",
   "metadata": {},
   "outputs": [
    {
     "name": "stdout",
     "output_type": "stream",
     "text": [
      "1\n",
      "2\n",
      "3\n"
     ]
    }
   ],
   "source": [
    "if x<=0:\n",
    "    print(\"numero invalido\")\n",
    "else:\n",
    "    for i in range(x):\n",
    "        print(i+1)\n"
   ]
  },
  {
   "cell_type": "code",
   "execution_count": 37,
   "id": "a6ee9ce4-bf71-4c80-b2f5-ae07eef2ab4b",
   "metadata": {},
   "outputs": [
    {
     "name": "stdout",
     "output_type": "stream",
     "text": [
      "fizz\n"
     ]
    }
   ],
   "source": [
    "if x%3==0 and x%5==0:\n",
    "    print(\"fizzbuzz\")\n",
    "else:\n",
    "    print(x)\n",
    "\n",
    "if x%3==0:\n",
    "    print()"
   ]
  },
  {
   "cell_type": "code",
   "execution_count": 56,
   "id": "d23758be-046d-4e81-ace1-9371e4b9e1a4",
   "metadata": {},
   "outputs": [
    {
     "name": "stdin",
     "output_type": "stream",
     "text": [
      "ingrese su numero:  -78\n"
     ]
    },
    {
     "name": "stdout",
     "output_type": "stream",
     "text": [
      "numero invalido\n"
     ]
    }
   ],
   "source": [
    "x=int(input(\"ingrese su numero: \"))\n",
    "\n",
    "def fizzbuzz(numero):\n",
    "    if x<=0:\n",
    "        print(\"numero invalido\")\n",
    "\n",
    "    else:\n",
    "        for i in range(x):\n",
    "            nm=i+1\n",
    "            if nm%3==0 and nm%5==0:\n",
    "                print(\"fizzbuzz\")\n",
    "            elif nm%3==0:\n",
    "                print(\"fizz\")\n",
    "            elif nm%5==0:\n",
    "                print(\"buzz\")\n",
    "            else:\n",
    "                print(nm)\n",
    "fizzbuzz(x)"
   ]
  },
  {
   "cell_type": "code",
   "execution_count": null,
   "id": "d973e25e-ad8b-4c2d-8b84-8c3223b00713",
   "metadata": {},
   "outputs": [],
   "source": []
  }
 ],
 "metadata": {
  "kernelspec": {
   "display_name": "Python 3 (ipykernel)",
   "language": "python",
   "name": "python3"
  },
  "language_info": {
   "codemirror_mode": {
    "name": "ipython",
    "version": 3
   },
   "file_extension": ".py",
   "mimetype": "text/x-python",
   "name": "python",
   "nbconvert_exporter": "python",
   "pygments_lexer": "ipython3",
   "version": "3.12.1"
  }
 },
 "nbformat": 4,
 "nbformat_minor": 5
}
